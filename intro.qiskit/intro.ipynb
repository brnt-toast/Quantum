{
 "cells": [
  {
   "cell_type": "markdown",
   "id": "1a4bfecd",
   "metadata": {},
   "source": [
    "# Intro to Qiskit"
   ]
  },
  {
   "cell_type": "markdown",
   "id": "1d7986f4",
   "metadata": {},
   "source": [
    "\"4 - step workflow\""
   ]
  },
  {
   "cell_type": "markdown",
   "id": "c849573d",
   "metadata": {},
   "source": [
    "* **Build :**\n",
    "* **Compile :**\n",
    "* **Run :**\n",
    "* **Analyze :**"
   ]
  },
  {
   "cell_type": "code",
   "execution_count": null,
   "id": "12fa9451",
   "metadata": {},
   "outputs": [],
   "source": []
  }
 ],
 "metadata": {
  "kernelspec": {
   "display_name": "Python 3 (ipykernel)",
   "language": "python",
   "name": "python3"
  },
  "language_info": {
   "codemirror_mode": {
    "name": "ipython",
    "version": 3
   },
   "file_extension": ".py",
   "mimetype": "text/x-python",
   "name": "python",
   "nbconvert_exporter": "python",
   "pygments_lexer": "ipython3",
   "version": "3.8.9"
  }
 },
 "nbformat": 4,
 "nbformat_minor": 5
}
